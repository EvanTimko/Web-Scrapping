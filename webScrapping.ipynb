{
 "cells": [
  {
   "cell_type": "code",
   "execution_count": 12,
   "metadata": {},
   "outputs": [],
   "source": [
    "import pandas as pd\n",
    "import requests\n",
    "from bs4 import BeautifulSoup"
   ]
  },
  {
   "cell_type": "code",
   "execution_count": 13,
   "metadata": {},
   "outputs": [],
   "source": [
    "def tableDataRetreival(url):\n",
    "    #retreive the html from the website\n",
    "    webPage = requests.get(url)\n",
    "    soup = BeautifulSoup(webPage.text,'lxml')\n",
    "    soup\n",
    "\n",
    "    #getting the table\n",
    "    table = soup.find(\"table\")\n",
    "    headers = []\n",
    "\n",
    "    for columnHeader in table.find_all(\"thead\"):\n",
    "        title = columnHeader.text.strip()\n",
    "        headers.append(title)\n",
    "\n",
    "    #formatting the header\n",
    "    txt = headers[0]\n",
    "    headers = txt.split('\\n')\n",
    "\n",
    "    #creating a dataframe\n",
    "    df = pd.DataFrame(columns=headers)\n",
    "\n",
    "    #putting the data in the dataframe \n",
    "    for row in table.find_all(\"tr\")[1:]:\n",
    "        data = row.find_all(\"td\")\n",
    "        row_data = [td.text.strip() for td in data]\n",
    "        \n",
    "        while True:\n",
    "            done = False\n",
    "            try:\n",
    "                length = len(df)\n",
    "                df.loc[length] = row_data\n",
    "                done = True\n",
    "            except:\n",
    "                row_data.pop(0)\n",
    "\n",
    "            if done: break\n",
    "\n",
    "    print(df.head())\n",
    "    \n",
    "    if input(\"if you want to save this data please enter True\"):\n",
    "        #save to csv\n",
    "        df.to_csv(input(\"type in the name of the file\")+\".csv\")"
   ]
  },
  {
   "cell_type": "code",
   "execution_count": 14,
   "metadata": {},
   "outputs": [
    {
     "name": "stdout",
     "output_type": "stream",
     "text": [
      "              ID                                              Tweet  \\\n",
      "0  2018-En-03332  Be happy. Be confident. Be kind.\\n\\n #Kissable...   \n",
      "1  2018-En-01146           @queenjlouise @mamaw_gereck awe thanks 😊   \n",
      "2  2018-En-02249                               @Ithika Loving it! 😂   \n",
      "3  2018-En-00192       @mir_btc Eherium should make everybody happy   \n",
      "4  2018-En-03117  Shitty is the worst feeling ever #depressed #a...   \n",
      "\n",
      "  Affect Dimension      Intensity Score target  \n",
      "0              joy   0.6609999999999999      0  \n",
      "1             fear  0.08900000000000001      0  \n",
      "2              joy                0.813      0  \n",
      "3              joy                0.515      0  \n",
      "4          sadness                0.895      1  \n"
     ]
    }
   ],
   "source": [
    "url = \"https://github.com/swcwang/depression-detection/blob/master/data/general_tweets.csv\"\n",
    "tableDataRetreival(url)"
   ]
  },
  {
   "cell_type": "code",
   "execution_count": 15,
   "metadata": {},
   "outputs": [
    {
     "name": "stdout",
     "output_type": "stream",
     "text": [
      "   #          Team  Pl   W  D  L   F   A  GD Pts Last 6\n",
      "0  1  Notts County  21  14  6  1  53  18  35  48       \n",
      "1  2       Wrexham  21  14  5  2  53  19  34  47       \n",
      "2  3        Woking  21  12  4  5  37  20  17  40       \n",
      "3  4  Chesterfield  20  12  4  4  40  24  16  40       \n",
      "4  5        Barnet  21  11  3  7  40  38   2  36       \n"
     ]
    }
   ],
   "source": [
    "url = \"https://www.skysports.com/football/competitions/vanarama-national-league/table\"\n",
    "tableDataRetreival(url)"
   ]
  },
  {
   "cell_type": "code",
   "execution_count": 16,
   "metadata": {},
   "outputs": [
    {
     "name": "stdout",
     "output_type": "stream",
     "text": [
      "  Rank          School Conference Record  Road Neutral  Home Non Div I\n",
      "0    1          Hawaii   Big West   27-5   3-5     6-0  18-0       0-0\n",
      "1    2  Long Beach St.   Big West   21-6   5-4     1-1  15-1       0-0\n",
      "2    3        Penn St.       EIVA   23-4  10-2     0-1  13-1       0-0\n",
      "3    4        Ball St.       MIVA   23-4   9-2     0-1  14-1       0-0\n",
      "4    5            UCLA       MPSF   22-5  10-2     0-1  12-2       0-0\n"
     ]
    }
   ],
   "source": [
    "url = \"https://www.ncaa.com/rankings/volleyball-men/nc/nc-mens-volleyball-rpi\"\n",
    "tableDataRetreival(url)\n"
   ]
  }
 ],
 "metadata": {
  "kernelspec": {
   "display_name": "Python 3.7.13 ('base')",
   "language": "python",
   "name": "python3"
  },
  "language_info": {
   "codemirror_mode": {
    "name": "ipython",
    "version": 3
   },
   "file_extension": ".py",
   "mimetype": "text/x-python",
   "name": "python",
   "nbconvert_exporter": "python",
   "pygments_lexer": "ipython3",
   "version": "3.7.13"
  },
  "orig_nbformat": 4,
  "vscode": {
   "interpreter": {
    "hash": "b247653ec266c88967e3145276b3f068dfe716dda523351a6b53c1e337747356"
   }
  }
 },
 "nbformat": 4,
 "nbformat_minor": 2
}
